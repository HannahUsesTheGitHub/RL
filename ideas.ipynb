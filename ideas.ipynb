{
 "cells": [
  {
   "cell_type": "markdown",
   "id": "f9344ee0",
   "metadata": {},
   "source": [
    "# Noteboot for all of out amazing ideas\n"
   ]
  }
 ],
 "metadata": {
  "language_info": {
   "name": "python"
  }
 },
 "nbformat": 4,
 "nbformat_minor": 5
}
